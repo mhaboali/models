{
 "cells": [
  {
   "cell_type": "code",
   "execution_count": 11,
   "metadata": {},
   "outputs": [
    {
     "name": "stdout",
     "output_type": "stream",
     "text": [
      "Running virtualenv with interpreter /usr/bin/python2.7\n",
      "Already using interpreter /usr/bin/python2.7\n",
      "New python executable in /root/models/tcn/temp2-python/bin/python2.7\n",
      "Not overwriting existing python script /root/models/tcn/temp2-python/bin/python (you must use /root/models/tcn/temp2-python/bin/python2.7)\n",
      "Installing setuptools, pip, wheel...\n",
      "done.\n",
      "Python 3.6.9\n"
     ]
    }
   ],
   "source": [
    "virtualenv -p /usr/bin/python2.7 --distribute temp2-python \n",
    "\n",
    "source temp2-python/bin/activate \n",
    "\n",
    "python -V"
   ]
  },
  {
   "cell_type": "code",
   "execution_count": 9,
   "metadata": {},
   "outputs": [
    {
     "name": "stdout",
     "output_type": "stream",
     "text": [
      "Python 3.6.9\n"
     ]
    }
   ],
   "source": [
    "pip install pyyaml\n",
    "pip install numpy\n",
    "pip install scipy\n",
    "pip install opencv-python\n",
    "pip install tensorflow-gpu==1.14\n"
   ]
  },
  {
   "cell_type": "code",
   "execution_count": 12,
   "metadata": {},
   "outputs": [
    {
     "name": "stdout",
     "output_type": "stream",
     "text": [
      "\u001b[32mLoading:\u001b[0m \n",
      "\u001b[1A\u001b[K\u001b[32mLoading:\u001b[0m 0 packages loaded\n",
      "\u001b[1A\u001b[K\u001b[32mINFO: \u001b[0mAnalysed target //:train (1 packages loaded).\n",
      "\u001b[32mBuilding:\u001b[0m no action\n",
      "\u001b[1A\u001b[K\u001b[32mINFO: \u001b[0mFound 1 target...\n",
      "\u001b[32mBuilding:\u001b[0m no action\n",
      "\u001b[1A\u001b[K\u001b[32m[5 / 8]\u001b[0m [-----] BazelWorkspaceStatusAction stable-status.txt\n",
      "\u001b[1A\u001b[KTarget //:train up-to-date:\n",
      "\u001b[32m[8 / 8]\u001b[0m no action\n",
      "\u001b[1A\u001b[K  bazel-bin/train\n",
      "\u001b[32m[8 / 8]\u001b[0m no action\n",
      "\u001b[1A\u001b[K\u001b[32mINFO: \u001b[0mElapsed time: 0.109s, Critical Path: 0.00s\n",
      "\u001b[32m[8 / 8]\u001b[0m no action\n",
      "\u001b[1A\u001b[K\u001b[32mINFO: \u001b[0m0 processes.\n",
      "\u001b[32m[8 / 8]\u001b[0m no action\n",
      "\u001b[1A\u001b[K\u001b[32mINFO:\u001b[0m Build completed successfully, 2 total actions\n",
      "\u001b[1A\u001b[K\u001b[32mINFO:\u001b[0m Build completed successfully, 2 total actions\n",
      "\u001b[0mTraceback (most recent call last):\n",
      "  File \"/root/models/tcn/bazel-bin/train.runfiles/tcn/train.py\", line 22, in <module>\n",
      "    from estimators.get_estimator import get_estimator\n",
      "  File \"/root/models/tcn/bazel-bin/train.runfiles/tcn/estimators/get_estimator.py\", line 22, in <module>\n",
      "    from estimators import mvtcn_estimator as mvtcn_estimators\n",
      "  File \"/root/models/tcn/bazel-bin/train.runfiles/tcn/estimators/mvtcn_estimator.py\", line 24, in <module>\n",
      "    import model as model_module\n",
      "  File \"/root/models/tcn/model.py\", line 24, in <module>\n",
      "    import tensorflow.contrib.slim as slim\n",
      "ModuleNotFoundError: No module named 'tensorflow.contrib'\n"
     ]
    }
   ],
   "source": [
    "## It's not working because of CUDA\n",
    "!export PATH=$PATH:$HOME/bin; export logdir=/tmp/tcn/pouring; export c=configs; export configs=$c/tcn_default.yml,$c/pouring.yml;cd ~/models/tcn; bazel build -c opt --copt=-mavx train && bazel-bin/train --config_paths $configs --logdir $logdir\n"
   ]
  },
  {
   "cell_type": "code",
   "execution_count": null,
   "metadata": {},
   "outputs": [],
   "source": []
  }
 ],
 "metadata": {
  "kernelspec": {
   "display_name": "Python 3",
   "language": "python",
   "name": "python3"
  },
  "language_info": {
   "codemirror_mode": {
    "name": "ipython",
    "version": 3
   },
   "file_extension": ".py",
   "mimetype": "text/x-python",
   "name": "python",
   "nbconvert_exporter": "python",
   "pygments_lexer": "ipython3",
   "version": "3.6.9"
  }
 },
 "nbformat": 4,
 "nbformat_minor": 4
}
