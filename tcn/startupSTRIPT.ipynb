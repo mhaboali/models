{
 "cells": [
  {
   "cell_type": "code",
   "execution_count": null,
   "metadata": {},
   "outputs": [],
   "source": [
    "!export starting_path=$PWD\n",
    "!git clone https://github.com/mhaboali/models.git --depth 1 && cd models/tcn\n",
    "!export gitrepo_path=$starting_path/models\n",
    "!export tcn_path=$gitrepo_path/tcn\n",
    "!echo \"export gitrepo_path=$starting_path/models\" >> ~/.bashrc\n"
   ]
  },
  {
   "cell_type": "code",
   "execution_count": null,
   "metadata": {},
   "outputs": [],
   "source": [
    "!chmod +x bazel-0.18.0-installer-linux-x86_64.sh\n",
    "\n",
    "!./bazel-0.18.0-installer-linux-x86_64.sh --user"
   ]
  },
  {
   "cell_type": "code",
   "execution_count": null,
   "metadata": {},
   "outputs": [],
   "source": [
    "!apt install openjdk-11-jdk\n",
    "!export PATH=\"$PATH:$HOME/bin\"\n"
   ]
  },
  {
   "cell_type": "code",
   "execution_count": null,
   "metadata": {},
   "outputs": [],
   "source": [
    "!echo \"alias c='clear'\" >> ~/.bashrc\n",
    "!echo \"alias h='history'\" >> ~/.bashrc\n",
    "!echo \"alias r='reset'\" >> ~/.bashrc\n",
    "!source ~/.bashrc\n"
   ]
  },
  {
   "cell_type": "code",
   "execution_count": null,
   "metadata": {},
   "outputs": [],
   "source": [
    "!python download_pretrained.py\n",
    "!mkdir ~/tcn_data\n",
    "!cp $tcn_paht/download.sh ~/tcn_data\n",
    "!cd ~/tcn_data; source ~/tcn_data/download.sh\n",
    "!cd $tcn_paht"
   ]
  },
  {
   "cell_type": "code",
   "execution_count": null,
   "metadata": {},
   "outputs": [],
   "source": []
  }
 ],
 "metadata": {
  "kernelspec": {
   "display_name": "Python 3",
   "language": "python",
   "name": "python3"
  },
  "language_info": {
   "codemirror_mode": {
    "name": "ipython",
    "version": 3
   },
   "file_extension": ".py",
   "mimetype": "text/x-python",
   "name": "python",
   "nbconvert_exporter": "python",
   "pygments_lexer": "ipython3",
   "version": "3.6.9"
  }
 },
 "nbformat": 4,
 "nbformat_minor": 4
}
